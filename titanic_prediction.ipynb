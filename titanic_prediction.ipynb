{
  "nbformat": 4,
  "nbformat_minor": 0,
  "metadata": {
    "colab": {
      "provenance": []
    },
    "kernelspec": {
      "name": "python3",
      "display_name": "Python 3"
    },
    "language_info": {
      "name": "python"
    }
  },
  "cells": [
    {
      "cell_type": "code",
      "execution_count": 2,
      "metadata": {
        "colab": {
          "base_uri": "https://localhost:8080/"
        },
        "id": "4yPeo0bVQGXg",
        "outputId": "2f6f665d-9de7-458c-9cde-3254980e7b81"
      },
      "outputs": [
        {
          "output_type": "stream",
          "name": "stdout",
          "text": [
            "Mounted at /content/gdrive\n"
          ]
        }
      ],
      "source": [
        "import tensorflow as tf\n",
        "from tensorflow.keras.models import Sequential\n",
        "from tensorflow.keras.layers import Dense\n",
        "from sklearn.model_selection import train_test_split\n",
        "from sklearn.preprocessing import StandardScaler\n",
        "from tensorflow.keras.callbacks import EarlyStopping, ReduceLROnPlateau\n",
        "from google.colab import files\n",
        "import pandas as pd\n",
        "import numpy as np\n",
        "from google.colab import drive\n",
        "drive.mount('/content/gdrive')"
      ]
    },
    {
      "cell_type": "code",
      "source": [
        "model = tf.keras.Sequential([\n",
        "    tf.keras.layers.Dense(256, activation='relu', input_shape=(19,)),\n",
        "    tf.keras.layers.Dense(512, activation='relu'),\n",
        "    tf.keras.layers.Dense(512, activation='relu'),\n",
        "    tf.keras.layers.Dense(512, activation='relu'),\n",
        "    tf.keras.layers.Dense(512, activation='relu'),\n",
        "    tf.keras.layers.Dense(512, activation='relu'),\n",
        "    tf.keras.layers.Dense(512, activation='relu'),\n",
        "    tf.keras.layers.Dense(512, activation='relu'),\n",
        "    tf.keras.layers.Dense(512, activation='relu'),\n",
        "    tf.keras.layers.Dense(512, activation='relu'),\n",
        "    tf.keras.layers.Dense(512, activation='relu'),\n",
        "    tf.keras.layers.Dense(512, activation='relu'),\n",
        "    tf.keras.layers.Dense(512, activation='relu'),\n",
        "    tf.keras.layers.Dense(512, activation='relu'),\n",
        "    tf.keras.layers.Dense(512, activation='relu'),\n",
        "    tf.keras.layers.Dense(1, activation='sigmoid')\n",
        "])\n",
        "\n",
        "model.compile(optimizer='adam', loss='binary_crossentropy', metrics=['accuracy'])"
      ],
      "metadata": {
        "id": "wRUqBAf8QgIZ"
      },
      "execution_count": 3,
      "outputs": []
    },
    {
      "cell_type": "code",
      "source": [
        "file = 'gdrive/My Drive/train.csv'\n",
        "df=pd.read_csv(file)\n",
        "\n",
        "df['Deck'] = df['Cabin'].str[0]\n",
        "\n",
        "df = df.drop(columns=['Cabin'], axis=1)\n",
        "\n",
        "\n",
        "df = df.drop(columns=['Name', 'Ticket'], axis=1)\n",
        "\n",
        "\n",
        "df = df.fillna(df.mean())\n",
        "\n",
        "#Categorias a serem codificadas para valores binários\n",
        "categorical_cols = ['Sex', 'Embarked', 'Deck']\n",
        "\n",
        "#Codificação\n",
        "df_encoded = pd.get_dummies(df, columns=categorical_cols)\n",
        "\n",
        "X = df_encoded.drop(columns=['Survived'], axis=1)\n",
        "print(len(X.columns))\n",
        "Y = df_encoded['Survived']\n",
        "\n",
        "\n",
        "X_train, X_test, y_train, y_test = train_test_split(X, Y, test_size=0.2, random_state=42)\n",
        "\n",
        "# Normalize the input features\n",
        "scaler = StandardScaler()\n",
        "X_train_scaled = scaler.fit_transform(X_train)\n",
        "X_test_scaled = scaler.transform(X_test)\n",
        "\n",
        "\n",
        "\n",
        "checkpoint = tf.keras.callbacks.ModelCheckpoint('best_model.h5', monitor='val_loss', save_best_only=True, mode='min')\n",
        "history = model.fit(X_train_scaled, y_train, epochs=40, batch_size=32, validation_split=0.2, callbacks=[checkpoint])\n",
        "best_model = tf.keras.models.load_model('best_model.h5')\n",
        "\n",
        "test_loss, test_acc = best_model.evaluate(X_test_scaled, y_test)\n",
        "print(\"Test Loss:\", test_loss)\n",
        "print(\"Test Accuracy:\", test_acc)"
      ],
      "metadata": {
        "colab": {
          "base_uri": "https://localhost:8080/"
        },
        "id": "FCwOls6kSX1j",
        "outputId": "6187db0d-6986-4220-d2ba-14714710504e"
      },
      "execution_count": 4,
      "outputs": [
        {
          "output_type": "stream",
          "name": "stdout",
          "text": [
            "19\n",
            "Epoch 1/40\n"
          ]
        },
        {
          "output_type": "stream",
          "name": "stderr",
          "text": [
            "<ipython-input-4-a57cfcfe65c0>:12: FutureWarning: The default value of numeric_only in DataFrame.mean is deprecated. In a future version, it will default to False. In addition, specifying 'numeric_only=None' is deprecated. Select only valid columns or specify the value of numeric_only to silence this warning.\n",
            "  df = df.fillna(df.mean())\n"
          ]
        },
        {
          "output_type": "stream",
          "name": "stdout",
          "text": [
            "18/18 [==============================] - 6s 106ms/step - loss: 0.6454 - accuracy: 0.6221 - val_loss: 0.4608 - val_accuracy: 0.8531\n",
            "Epoch 2/40\n",
            " 1/18 [>.............................] - ETA: 0s - loss: 0.4819 - accuracy: 0.8438"
          ]
        },
        {
          "output_type": "stream",
          "name": "stderr",
          "text": [
            "/usr/local/lib/python3.10/dist-packages/keras/src/engine/training.py:3103: UserWarning: You are saving your model as an HDF5 file via `model.save()`. This file format is considered legacy. We recommend using instead the native Keras format, e.g. `model.save('my_model.keras')`.\n",
            "  saving_api.save_model(\n"
          ]
        },
        {
          "output_type": "stream",
          "name": "stdout",
          "text": [
            "18/18 [==============================] - 1s 56ms/step - loss: 0.5203 - accuracy: 0.7592 - val_loss: 0.5433 - val_accuracy: 0.8112\n",
            "Epoch 3/40\n",
            "18/18 [==============================] - 2s 90ms/step - loss: 0.4492 - accuracy: 0.8155 - val_loss: 0.4557 - val_accuracy: 0.8462\n",
            "Epoch 4/40\n",
            "18/18 [==============================] - 1s 54ms/step - loss: 0.4280 - accuracy: 0.8260 - val_loss: 0.4930 - val_accuracy: 0.8531\n",
            "Epoch 5/40\n",
            "18/18 [==============================] - 1s 64ms/step - loss: 0.3964 - accuracy: 0.8330 - val_loss: 0.4075 - val_accuracy: 0.8531\n",
            "Epoch 6/40\n",
            "18/18 [==============================] - 1s 53ms/step - loss: 0.3956 - accuracy: 0.8401 - val_loss: 0.5235 - val_accuracy: 0.8741\n",
            "Epoch 7/40\n",
            "18/18 [==============================] - 1s 62ms/step - loss: 0.4341 - accuracy: 0.8348 - val_loss: 0.3703 - val_accuracy: 0.8601\n",
            "Epoch 8/40\n",
            "18/18 [==============================] - 1s 54ms/step - loss: 0.4297 - accuracy: 0.8102 - val_loss: 0.5846 - val_accuracy: 0.8112\n",
            "Epoch 9/40\n",
            "18/18 [==============================] - 1s 52ms/step - loss: 0.3663 - accuracy: 0.8471 - val_loss: 0.4401 - val_accuracy: 0.8392\n",
            "Epoch 10/40\n",
            "18/18 [==============================] - 1s 68ms/step - loss: 0.3363 - accuracy: 0.8401 - val_loss: 0.6832 - val_accuracy: 0.8392\n",
            "Epoch 11/40\n",
            "18/18 [==============================] - 2s 85ms/step - loss: 0.3286 - accuracy: 0.8524 - val_loss: 0.6650 - val_accuracy: 0.8531\n",
            "Epoch 12/40\n",
            "18/18 [==============================] - 2s 84ms/step - loss: 0.3194 - accuracy: 0.8576 - val_loss: 0.7509 - val_accuracy: 0.8252\n",
            "Epoch 13/40\n",
            "18/18 [==============================] - 1s 66ms/step - loss: 0.3696 - accuracy: 0.8506 - val_loss: 0.6484 - val_accuracy: 0.8531\n",
            "Epoch 14/40\n",
            "18/18 [==============================] - 1s 54ms/step - loss: 0.3538 - accuracy: 0.8366 - val_loss: 0.4915 - val_accuracy: 0.8462\n",
            "Epoch 15/40\n",
            "18/18 [==============================] - 1s 54ms/step - loss: 0.3334 - accuracy: 0.8541 - val_loss: 0.4661 - val_accuracy: 0.8531\n",
            "Epoch 16/40\n",
            "18/18 [==============================] - 1s 53ms/step - loss: 0.3110 - accuracy: 0.8471 - val_loss: 0.5623 - val_accuracy: 0.8182\n",
            "Epoch 17/40\n",
            "18/18 [==============================] - 1s 51ms/step - loss: 0.3204 - accuracy: 0.8541 - val_loss: 0.7648 - val_accuracy: 0.8462\n",
            "Epoch 18/40\n",
            "18/18 [==============================] - 1s 52ms/step - loss: 0.2984 - accuracy: 0.8594 - val_loss: 2.6721 - val_accuracy: 0.8182\n",
            "Epoch 19/40\n",
            "18/18 [==============================] - 1s 54ms/step - loss: 0.3845 - accuracy: 0.8436 - val_loss: 0.5177 - val_accuracy: 0.8112\n",
            "Epoch 20/40\n",
            "18/18 [==============================] - 1s 53ms/step - loss: 0.3857 - accuracy: 0.8243 - val_loss: 0.5608 - val_accuracy: 0.7972\n",
            "Epoch 21/40\n",
            "18/18 [==============================] - 1s 54ms/step - loss: 0.3412 - accuracy: 0.8418 - val_loss: 0.6340 - val_accuracy: 0.8182\n",
            "Epoch 22/40\n",
            "18/18 [==============================] - 1s 52ms/step - loss: 0.3548 - accuracy: 0.8541 - val_loss: 1.2452 - val_accuracy: 0.8392\n",
            "Epoch 23/40\n",
            "18/18 [==============================] - 1s 62ms/step - loss: 0.3946 - accuracy: 0.8207 - val_loss: 0.4755 - val_accuracy: 0.8252\n",
            "Epoch 24/40\n",
            "18/18 [==============================] - 1s 80ms/step - loss: 0.3385 - accuracy: 0.8418 - val_loss: 0.4529 - val_accuracy: 0.7902\n",
            "Epoch 25/40\n",
            "18/18 [==============================] - 2s 85ms/step - loss: 0.3214 - accuracy: 0.8489 - val_loss: 0.5846 - val_accuracy: 0.7972\n",
            "Epoch 26/40\n",
            "18/18 [==============================] - 1s 69ms/step - loss: 0.3642 - accuracy: 0.8541 - val_loss: 1.1401 - val_accuracy: 0.8322\n",
            "Epoch 27/40\n",
            "18/18 [==============================] - 1s 51ms/step - loss: 0.3528 - accuracy: 0.8436 - val_loss: 0.8342 - val_accuracy: 0.8392\n",
            "Epoch 28/40\n",
            "18/18 [==============================] - 1s 53ms/step - loss: 0.3417 - accuracy: 0.8418 - val_loss: 1.3008 - val_accuracy: 0.8182\n",
            "Epoch 29/40\n",
            "18/18 [==============================] - 1s 53ms/step - loss: 0.3174 - accuracy: 0.8559 - val_loss: 1.2556 - val_accuracy: 0.8531\n",
            "Epoch 30/40\n",
            "18/18 [==============================] - 1s 52ms/step - loss: 0.2881 - accuracy: 0.8576 - val_loss: 1.2011 - val_accuracy: 0.8182\n",
            "Epoch 31/40\n",
            "18/18 [==============================] - 1s 53ms/step - loss: 0.2685 - accuracy: 0.8770 - val_loss: 0.9321 - val_accuracy: 0.8252\n",
            "Epoch 32/40\n",
            "18/18 [==============================] - 1s 50ms/step - loss: 0.3050 - accuracy: 0.8418 - val_loss: 0.5216 - val_accuracy: 0.7902\n",
            "Epoch 33/40\n",
            "18/18 [==============================] - 1s 49ms/step - loss: 0.3059 - accuracy: 0.8612 - val_loss: 1.0738 - val_accuracy: 0.8531\n",
            "Epoch 34/40\n",
            "18/18 [==============================] - 1s 51ms/step - loss: 0.3464 - accuracy: 0.8313 - val_loss: 0.7507 - val_accuracy: 0.8392\n",
            "Epoch 35/40\n",
            "18/18 [==============================] - 1s 51ms/step - loss: 0.3447 - accuracy: 0.8541 - val_loss: 0.5838 - val_accuracy: 0.8601\n",
            "Epoch 36/40\n",
            "18/18 [==============================] - 1s 53ms/step - loss: 0.3133 - accuracy: 0.8524 - val_loss: 0.8567 - val_accuracy: 0.8601\n",
            "Epoch 37/40\n",
            "18/18 [==============================] - 1s 72ms/step - loss: 0.3047 - accuracy: 0.8647 - val_loss: 0.5735 - val_accuracy: 0.8601\n",
            "Epoch 38/40\n",
            "18/18 [==============================] - 1s 79ms/step - loss: 0.2876 - accuracy: 0.8612 - val_loss: 2.1562 - val_accuracy: 0.8042\n",
            "Epoch 39/40\n",
            "18/18 [==============================] - 2s 85ms/step - loss: 0.3098 - accuracy: 0.8735 - val_loss: 0.5465 - val_accuracy: 0.8601\n",
            "Epoch 40/40\n",
            "18/18 [==============================] - 1s 56ms/step - loss: 0.2588 - accuracy: 0.8752 - val_loss: 0.9819 - val_accuracy: 0.8042\n",
            "6/6 [==============================] - 1s 9ms/step - loss: 0.4533 - accuracy: 0.8380\n",
            "Test Loss: 0.45330485701560974\n",
            "Test Accuracy: 0.8379888534545898\n"
          ]
        }
      ]
    },
    {
      "cell_type": "code",
      "source": [
        "testFile = 'gdrive/My Drive/test.csv'\n",
        "df_test = pd.read_csv(testFile)\n",
        "\n",
        "df_test['Deck'] = df_test['Cabin'].str[0]\n",
        "df_test = df_test.drop(columns=['Cabin', 'Name', 'Ticket'], axis=1)\n",
        "df_test = df_test.fillna(df_test.mean())\n",
        "\n",
        "df_test['Deck_T'] = 0\n",
        "\n",
        "train_deck_categories = ['A', 'B', 'C', 'D', 'E', 'F', 'G']\n",
        "\n",
        "for category in train_deck_categories:\n",
        "    if category not in df_test['Deck'].unique():\n",
        "        df_test[category] = 0\n",
        "\n",
        "df_test_encoded = pd.get_dummies(df_test, columns=['Sex', 'Embarked', 'Deck'])\n",
        "\n",
        "encoded_columns = df_test_encoded.columns.tolist()\n",
        "\n",
        "if 'Deck_T' in encoded_columns:\n",
        "    encoded_columns.remove('Deck_T')\n",
        "\n",
        "\n",
        "encoded_columns.append('Deck_T')\n",
        "\n",
        "df_test_encoded = df_test_encoded[encoded_columns]\n",
        "\n",
        "\n",
        "X_test_final = df_test_encoded\n",
        "PassengerId = df_test_encoded['PassengerId']\n",
        "\n",
        "\n",
        "scaler = StandardScaler()\n",
        "X_test_scaled_final = scaler.fit_transform(X_test_final)\n",
        "\n",
        "\n",
        "best_model = tf.keras.models.load_model('best_model.h5')\n",
        "\n",
        "\n",
        "predictions = best_model.predict(X_test_scaled_final)\n",
        "\n",
        "\n",
        "binary_predictions = np.round(predictions).astype(int)\n",
        "\n",
        "output_df = pd.DataFrame({'PassengerId': PassengerId, 'Survived': binary_predictions.flatten()})\n",
        "output_df.to_csv('predictions.csv', index=False)\n",
        "\n",
        "#files.download('predictions.csv')"
      ],
      "metadata": {
        "colab": {
          "base_uri": "https://localhost:8080/"
        },
        "id": "ttrR_sRCTDnT",
        "outputId": "dff1aa16-9dd6-4a56-ba38-db52109495ad"
      },
      "execution_count": 5,
      "outputs": [
        {
          "output_type": "stream",
          "name": "stderr",
          "text": [
            "<ipython-input-5-06af6259b2ea>:6: FutureWarning: The default value of numeric_only in DataFrame.mean is deprecated. In a future version, it will default to False. In addition, specifying 'numeric_only=None' is deprecated. Select only valid columns or specify the value of numeric_only to silence this warning.\n",
            "  df_test = df_test.fillna(df_test.mean())\n"
          ]
        },
        {
          "output_type": "stream",
          "name": "stdout",
          "text": [
            "14/14 [==============================] - 0s 10ms/step\n"
          ]
        }
      ]
    },
    {
      "cell_type": "code",
      "source": [],
      "metadata": {
        "id": "f6ALcNekrieL"
      },
      "execution_count": 5,
      "outputs": []
    }
  ]
}